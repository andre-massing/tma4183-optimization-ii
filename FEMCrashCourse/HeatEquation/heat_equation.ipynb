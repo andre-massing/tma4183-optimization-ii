{
 "cells": [
  {
   "cell_type": "markdown",
   "metadata": {},
   "source": [
    "# Tutorial 3: Heat equation part I"
   ]
  },
  {
   "cell_type": "markdown",
   "metadata": {},
   "source": [
    "## Introduction"
   ]
  },
  {
   "cell_type": "markdown",
   "metadata": {},
   "source": [
    "In this tutorial we will start to learn how to use [`Gridap.jl`](https://github.com/gridap/Gridap.jl) for approximating transient PDEs by using time marching schemes (method of lines). We consider the *heat equation*, a.k.a. the transient Poisson equation."
   ]
  },
  {
   "cell_type": "markdown",
   "metadata": {},
   "source": [
    "$$\n",
    "\\left\\lbrace\n",
    "\\begin{aligned}\n",
    "\\frac{\\partial u(x,t)}{\\partial t} -\\kappa(x,t)\\Delta u(t) = f(x,t)  \\ &\\text{in} \\ \\Omega,\\\\\n",
    "u(t) = g_D(x,t) \\ &\\text{on}\\ \\Gamma_{\\rm D},\\\\\n",
    "u(0) = u_0(x) \\ &\\text{in}\\ \\Omega\\\\\n",
    "\\end{aligned}\n",
    "\\right.\n",
    "$$"
   ]
  },
  {
   "cell_type": "markdown",
   "metadata": {},
   "source": [
    "## Problem statement"
   ]
  },
  {
   "cell_type": "markdown",
   "metadata": {},
   "source": [
    "In this tutorial we consider a rather simplified case to get started.\n",
    "\n",
    "We want to solve the heat equation in a 2-dimensional domain $\\Omega = [0, \\pi]^2$ with\n",
    "* homogenous Dirichlet boundaries on the whole boundary $\\partial \\Omega$\n",
    "* homogeneous right-hand side $f=0$\n",
    "* constant $\\kappa  =  1$\n",
    "* initial condition $u_0(x,y) = \\sin(x) \\sin(y)$"
   ]
  },
  {
   "cell_type": "markdown",
   "metadata": {},
   "source": [
    "The weak form of the problem reads: find $u(t)\\in U_g(t)$ such that"
   ]
  },
  {
   "cell_type": "markdown",
   "metadata": {},
   "source": [
    "$$\n",
    "m(t,u,v) + a(t,u,v) = b(t,v)\\quad \\forall v\\in \\ V\n",
    "$$"
   ]
  },
  {
   "cell_type": "markdown",
   "metadata": {},
   "source": [
    "Note that $U_g(t)$ is a transient FE space, in the sense that Dirichlet boundary value of functions in $U_g$ _can_ change in time (even though this is not the case in this tutorial). The definition of $m(u,v)$, $a(u,v)$ and $b(v)$ is as follows:"
   ]
  },
  {
   "cell_type": "markdown",
   "metadata": {},
   "source": [
    "$$\n",
    "\\begin{aligned}\n",
    "m(t,u,v) = \\int_\\Omega v\\frac{\\partial u}{\\partial t} d\\Omega, \\\\\n",
    "a(t,u,v) = \\int_\\Omega \\kappa(t) \\nabla v\\cdot \\nabla u d\\Omega, \\\\\n",
    "b(t,v) = \\int_\\Omega v\\ f(t) d\\Omega\n",
    "\\end{aligned}\n",
    "$$"
   ]
  },
  {
   "cell_type": "markdown",
   "metadata": {},
   "source": [
    "## Discrete model and Triangulation"
   ]
  },
  {
   "cell_type": "markdown",
   "metadata": {},
   "source": [
    "As usual, let us first load `Gridap`."
   ]
  },
  {
   "cell_type": "code",
   "execution_count": null,
   "metadata": {},
   "outputs": [],
   "source": [
    "using Gridap"
   ]
  },
  {
   "cell_type": "markdown",
   "metadata": {},
   "source": [
    "First, we define the `DiscreteModel` and the `Triangulation`. More details on this can be found in [tutorial 2](https://gridap.github.io/Tutorials/stable/pages/t002_validation/)."
   ]
  },
  {
   "cell_type": "code",
   "execution_count": null,
   "metadata": {},
   "outputs": [],
   "source": [
    "Nx, Ny = 10, 10\n",
    "h = (2π)/Nx\n",
    "print(\"Mesh size = $h\")\n",
    "𝒯 = CartesianDiscreteModel((0,2π,0,2π),(Nx,Ny)) |> simplexify\n",
    "writevtk(𝒯,\"model\")"
   ]
  },
  {
   "cell_type": "code",
   "execution_count": null,
   "metadata": {},
   "outputs": [],
   "source": [
    "# Exact solution\n",
    "u(x,t::Real) = exp(-2*t)*sin(x[1])*sin(x[2])\n",
    "u(t::Real) = x -> u(x,t)\n",
    "\n",
    "# Heat conductivity\n",
    "κ = 1\n",
    "\n",
    "# Heat source\n",
    "# Either compute it manually ...\n",
    "f(x,t::Real) = 0.0\n",
    "f(t::Real) = x -> f(x,t)\n",
    "# Or use the inbuilt-capabilities\n",
    "# f(t) = x -> ∂t(u)(x,t)-Δ(u(t))(x)\n",
    "# or\n",
    "# f(t) = x -> ∂t(u)(t)(x)-Δ(u(t))(x)\n",
    "\n",
    "# Boundary data\n",
    "g(x,t::Real) = 0.0\n",
    "g(t::Real) = x -> g(x,t)"
   ]
  },
  {
   "cell_type": "markdown",
   "metadata": {},
   "source": [
    "## Finite element spaces"
   ]
  },
  {
   "cell_type": "markdown",
   "metadata": {},
   "source": [
    "In this tutorial we will use linear Lagrangian Finite Elements."
   ]
  },
  {
   "cell_type": "code",
   "execution_count": null,
   "metadata": {},
   "outputs": [],
   "source": [
    "order = 1\n",
    "refFE = ReferenceFE(lagrangian,Float64,order)"
   ]
  },
  {
   "cell_type": "markdown",
   "metadata": {},
   "source": [
    "The space of test functions is constant in time and is defined in steady problems:"
   ]
  },
  {
   "cell_type": "code",
   "execution_count": null,
   "metadata": {},
   "outputs": [],
   "source": [
    "V = TestFESpace(𝒯,refFE,dirichlet_tags=\"boundary\")"
   ]
  },
  {
   "cell_type": "markdown",
   "metadata": {},
   "source": [
    "The trial space is now a `TransientTrialFESpace`, wich is constructed from a `TestFESpace` and a function (or vector of functions) for the Dirichlet boundary condition/s. In that case, the boundary condition function is a time-independent constant, but it could also be a time-dependent field depending on the coordinates $x$ and time $t$."
   ]
  },
  {
   "cell_type": "code",
   "execution_count": null,
   "metadata": {},
   "outputs": [],
   "source": [
    "U = TransientTrialFESpace(V,g)"
   ]
  },
  {
   "cell_type": "markdown",
   "metadata": {},
   "source": [
    "## Weak form"
   ]
  },
  {
   "cell_type": "markdown",
   "metadata": {},
   "source": [
    "As usual we build the following triangulation and the corresponding\n",
    "Lebesgue measure, which will allow to write down integrals in a syntax\n",
    "similar to the usual mathematical notation."
   ]
  },
  {
   "cell_type": "code",
   "execution_count": null,
   "metadata": {},
   "outputs": [],
   "source": [
    "Ω = Triangulation(𝒯)\n",
    "degree = 2*order\n",
    "dΩ = Measure(Ω,degree)"
   ]
  },
  {
   "cell_type": "markdown",
   "metadata": {},
   "source": [
    "### FE operator definition"
   ]
  },
  {
   "cell_type": "markdown",
   "metadata": {},
   "source": [
    "For time-dependent problems with constant coefficients one can use the optimized operator `TransientConstantMatrixFEOperator`, which assumes that the matrix contributions ($m$ and $a$) are time-independent. That is:"
   ]
  },
  {
   "cell_type": "code",
   "execution_count": null,
   "metadata": {},
   "outputs": [],
   "source": [
    "m(u,v) = ∫( u*v )dΩ\n",
    "a(u,v) = ∫(κ*(∇(u)⋅∇(v)))dΩ\n",
    "b(v) = ∫( f(0.0)*v )dΩ\n",
    "op = TransientConstantFEOperator(m,a,b,U,V)"
   ]
  },
  {
   "cell_type": "markdown",
   "metadata": {},
   "source": [
    "## Transient solver"
   ]
  },
  {
   "cell_type": "markdown",
   "metadata": {},
   "source": [
    "Once we have the FE operator defined, we proceed with the definition of the transient solver. First, we define a linear solver to be used at each time step. Here we use the `LUSolver`, but other choices are possible."
   ]
  },
  {
   "cell_type": "code",
   "execution_count": null,
   "metadata": {},
   "outputs": [],
   "source": [
    "linear_solver = LUSolver()"
   ]
  },
  {
   "cell_type": "markdown",
   "metadata": {},
   "source": [
    "Then, we define the ODE solver. That is, the scheme that will be used\n",
    "for the time integration. In this tutorial we use the `ThetaMethod`\n",
    "with different $\\theta$, in particular\n",
    "* $\\theta = 10^{-14} \\approx 0$ corresponding to the *forward Euler method*, an unstable first order scheme,\n",
    "* $\\theta = 0.5$ corresponding to the *Crank-Nicolson*, a $A$-stable second order scheme,\n",
    "* $\\theta = 1.0$ corresponding to the *backward Euler*, a $A$-stable first order scheme.\n",
    "\n",
    "We define the time step size\n",
    "$\\Delta t$ (constant) and the value of $\\theta $.\n",
    "The `ThetaMethod` function receives the linear solver, the time-step size $\\Delta t$ and the $\\theta$:"
   ]
  },
  {
   "cell_type": "code",
   "execution_count": null,
   "metadata": {},
   "outputs": [],
   "source": [
    "# Backward Euler\n",
    "θ = 1.0\n",
    "Δt = 0.05\n",
    "filesuffix=\"BE\"\n",
    "\n",
    "# Crank Nicolson\n",
    "# θ = 0.5\n",
    "# Δt = 0.05\n",
    "# Δt = 0.05\n",
    "# filesuffix=\"CN\"\n",
    "\n",
    "# Forward Euler\n",
    "# θ = 1.0e-14\n",
    "# Use parabolic CFL\n",
    "# α = 0.1\n",
    "# Δt = α*h^2\n",
    "# filesuffix=\"FE\"\n",
    "\n",
    "ode_solver = ThetaMethod(linear_solver,Δt,θ)"
   ]
  },
  {
   "cell_type": "markdown",
   "metadata": {},
   "source": [
    "Finally, we define the solution using the `solve` function, giving the ODE solver, the FE operator, an initial solution, an initial time and a final time. To construct the initial condition we interpolate the initial value (in that case a constant value of 0.0) into the FE space $U(t)$ at $t=0.0$."
   ]
  },
  {
   "cell_type": "code",
   "execution_count": null,
   "metadata": {},
   "outputs": [],
   "source": [
    "u₀ = interpolate_everywhere(u(0.0), U(0.0))\n",
    "t₀ = 0.0\n",
    "T = 1.0\n",
    "uₕₜ = solve(ode_solver,op,u₀,t₀,T)"
   ]
  },
  {
   "cell_type": "markdown",
   "metadata": {},
   "source": [
    "## Postprocessing"
   ]
  },
  {
   "cell_type": "markdown",
   "metadata": {},
   "source": [
    "We should highlight that `uₕₜ` is just an _iterable_ function and the results at each time steps are only computed when iterating over it, i.e., lazily. We can post-process the results and generate the corresponding `vtk` files using the `createpvd` and `createvtk` functions. The former will create a `.pvd` file with the collection of `.vtu` files saved at each time step by `createvtk`. The computation of the problem solutions will be triggered in the following loop:"
   ]
  },
  {
   "cell_type": "code",
   "execution_count": null,
   "metadata": {},
   "outputs": [],
   "source": [
    "createpvd(\"heat_equation_$(filesuffix)\") do pvd\n",
    "  for (uₕ,t) in uₕₜ\n",
    "    pvd[t] = createvtk(Ω,\"heat_equation_$(filesuffix)_$t\"*\".vtu\",cellfields=[\"u\"=>uₕ])\n",
    "  end\n",
    "end"
   ]
  },
  {
   "cell_type": "markdown",
   "metadata": {},
   "source": [
    "![](../assets/poisson_transient/poisson_transient.gif)"
   ]
  },
  {
   "cell_type": "markdown",
   "metadata": {},
   "source": [
    "---\n",
    "\n",
    "*This notebook was generated using [Literate.jl](https://github.com/fredrikekre/Literate.jl).*"
   ]
  }
 ],
 "metadata": {
  "kernelspec": {
   "display_name": "Julia 1.7.2",
   "language": "julia",
   "name": "julia-1.7"
  },
  "language_info": {
   "file_extension": ".jl",
   "mimetype": "application/julia",
   "name": "julia",
   "version": "1.7.2"
  }
 },
 "nbformat": 4,
 "nbformat_minor": 3
}
