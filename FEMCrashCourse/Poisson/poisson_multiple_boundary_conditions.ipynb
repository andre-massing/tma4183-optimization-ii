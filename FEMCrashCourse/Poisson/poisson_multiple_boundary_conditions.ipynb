{
 "cells": [
  {
   "attachments": {},
   "cell_type": "markdown",
   "metadata": {},
   "source": [
    "# Tutorial: Poisson equation with multiple boundary conditions"
   ]
  },
  {
   "attachments": {},
   "cell_type": "markdown",
   "metadata": {},
   "source": [
    "In this tutorial, we will learn\n",
    "\n",
    "   -  How to solve a simple PDE in Julia with Gridap\n",
    "   -  How to load a discrete model (aka a FE mesh) from a file\n",
    "   -  How to build a conforming Lagrangian FE space\n",
    "   -  How to define the different terms in a weak form\n",
    "   -  How to define inhomogeneous Neumann and Robin boundary conditions\n",
    "\n",
    "We start from the following boundary problem:\n",
    "find the scalar field $u$ such that\n",
    "\n",
    "$$\n",
    "\\left\\lbrace\n",
    "\\begin{aligned}\n",
    "-\\Delta u = f  \\ &\\text{in} \\ \\Omega,\\\\\n",
    "u = g_D \\ &\\text{on}\\ \\Gamma_{\\rm D},\\\\\n",
    "\\nabla u\\cdot n = g_N \\ &\\text{on}\\  \\Gamma_{\\rm N}.\\\\\n",
    "\\end{aligned}\n",
    "\\right.\n",
    "$$\n",
    "Here, $n$ denotes the outwards unit normal vector to the Neumann\n",
    "boundary $\\Gamma_{\\rm N} = \\{0\\} \\times [0,1] \\cup \\{1\\} \\times [0,1]$ and $\\Gamma_D = \\partial\\Omega \\setminus\\Gamma_{\\rm N}$. \n",
    "\n",
    "## Derivation of the weak formulation\n",
    " First we need to derive the weak form associated with mixed boundary problem above.\n",
    " This is basically a combination of how you have derived weak formulations for the Poisson problem with pure Dirichlet or pure Neumann boundary condition.\n",
    "\n",
    "For the Dirichlet (essential) boundary conditions, we once again build the boundary conditions into the trial function space\n",
    "$V_g$ and its corresponding test function space $V_0$: \n",
    "\n",
    "\\begin{align*}\n",
    "V_g &:= H^1_{g, \\Gamma_{\\rm D}}(\\Omega) :=  \\{v \\in H^1(\\Omega) : v|_{\\Gamma_{\\rm D}} = g \\}, \\\\\n",
    "V_0 &:= H^1_{0, \\Gamma_{\\rm D}}(\\Omega) :=  \\{v \\in H^1(\\Omega) : v|_{\\Gamma_{\\rm D}} = 0 \\}.\n",
    "\\end{align*}\n",
    "\n",
    "Now multiplying $-\\Delta u = f$ with a test function $v \\in V_0$ we obtain\n",
    "\n",
    "\\begin{align}\n",
    "\\int_{\\Omega} fv \\;{\\rm d}x \n",
    "&= \n",
    "-\\int_{\\Omega} \\Delta u v \\;{\\rm d}x \n",
    "\\\\\n",
    "&=\n",
    "\\int_{\\Omega}  \\nabla u \\cdot \\nabla v \\;{\\rm d}x\n",
    "-\\int_{\\Gamma} \\partial_n u v \\;{\\rm d}S \n",
    "\\\\\n",
    "&=\n",
    "\\int_{\\Omega}  \\nabla u \\cdot \\nabla v \\;{\\rm d}x\n",
    "-\\int_{\\Gamma_{\\rm D}}  \\partial_n u v \\;{\\rm d}S\n",
    "-\\int_{\\Gamma_{\\rm N}}  \\partial_n u v \\;{\\rm d}S\n",
    "\\end{align}\n",
    "Now the first surface integral \n",
    "$\\int_{\\Gamma_{\\rm D}}  \\partial_n u v \\;{\\rm d}S$\n",
    "vanishes since the test function $v\\in V_0$ is $0$ on the Dirichlet boundary.\n",
    "For the second surface integral, we can insert the natural boundary condition\n",
    "$\\nabla u\\cdot n = \\partial_n u = g_N$ to obtain the linear form   \n",
    "$-\\int_{\\Gamma_{\\rm N}}  g_N v \\;{\\rm d}S$ which only depends on the test function $v$.\n",
    "Incorporating this contribution into the linear form thus leads us to the formulation:\n",
    "\n",
    "Find $u\\in V_g$ such that \n",
    " $$ a(u,v) = l(v) $$\n",
    "where the bilinear and linear forms are given by \n",
    "\\begin{align*}\n",
    "  a(u,v) &\\doteq \\int_{\\Omega} \\nabla v \\cdot \\nabla u \\ {\\rm d}\\Omega, \\\\\n",
    "   l(v) &\\doteq \\int_{\\Omega} v\\ f  \\ {\\rm  d}\\Omega + \\int_{\\Gamma_{\\rm N}} v\\ g_N \\ {\\rm d}\\Gamma_{\\rm N}.\n",
    "\\end{align*}\n"
   ]
  },
  {
   "attachments": {},
   "cell_type": "markdown",
   "metadata": {},
   "source": [
    "### Numerical scheme\n",
    " To solve this PDE, we use a conventional Galerkin finite element (FE) method with conforming Lagrangian FE spaces (see, e.g., [1] for specific details on this formulation). \n",
    "We will again use the *method of manufactured solution* and construct two test problems, both posed on $\\Omega = [-1,1]^2$. \n",
    "For the two test problems (TP), we choose the exact solution $u_0$ and $u_2$ to be \n",
    "\\begin{align*}\n",
    "(TP0)\\quad u_1(x,y) &= x + y,\n",
    "\\\\\n",
    "(TP1)\\quad u_2(x,y) &= \\sin(2 \\pi x) \\cos( 2 \\pi y) + u_1(x, y).\n",
    "\\end{align*}"
   ]
  },
  {
   "cell_type": "markdown",
   "metadata": {},
   "source": [
    "The problem will be solved numerically by approximating the spaces $U_g$ and $V_0$ by their discrete counterparts associated with a FE mesh of the computational domain $\\Omega$. As we have anticipated, we consider standard conforming Lagrangian FE spaces for this purpose."
   ]
  },
  {
   "attachments": {},
   "cell_type": "markdown",
   "metadata": {},
   "source": [
    "### Task 1\n",
    "\n",
    "Compute $f$, $g_D$ and $g_N$ for both test problems."
   ]
  },
  {
   "cell_type": "markdown",
   "metadata": {},
   "source": [
    "**Solution.**\n",
    "\n",
    "#### TP1\n",
    "\n",
    "\\begin{align*}\n",
    "f &= \n",
    "\\\\\n",
    "g_N &=\n",
    "\\end{align*}\n",
    "\n",
    "#### TP2\n",
    "\n",
    "\\begin{align*}\n",
    "f &= \n",
    "\\\\\n",
    "g_N &=\n",
    "\\end{align*}"
   ]
  },
  {
   "cell_type": "markdown",
   "metadata": {},
   "source": [
    "## Using boundary tags\n",
    "Next, we learn how to use and manipulate boundary tags. Typically when a mesh is generated, parts of the domain or boundary are tagged using some labels\n",
    "in order to be able to distinguish them in the implementation of the numerical scheme.\n",
    "In our case we have to distinguish between the Dirichlet boundary and the Neumann boundary as\n",
    "the Dirichlet boundary condition need to be incorporated into the discrete function spaces while the Neumann boundary needs to be accounted for\n",
    "in the definition of the linear form $l(\\cdot)$.\n",
    "\n",
    "Let's make again a triangular mesh for the unit square and plot it."
   ]
  },
  {
   "cell_type": "code",
   "execution_count": null,
   "metadata": {},
   "outputs": [],
   "source": [
    "using Gridap\n",
    "\n",
    "domain = (0, 1, 0, 1)\n",
    "partition = nx, ny = 4, 4\n",
    "model = CartesianDiscreteModel(domain, partition)\n"
   ]
  },
  {
   "cell_type": "markdown",
   "metadata": {},
   "source": [
    "Remember that for the plotting of $\\Omega$, we need to create a `Triangulation` object from \n",
    "which we can plot using `GridapMakie`."
   ]
  },
  {
   "cell_type": "code",
   "execution_count": null,
   "metadata": {},
   "outputs": [],
   "source": [
    "using GridapMakie, CairoMakie, FileIO\n",
    "Ω = Triangulation(model)\n",
    "fig = plot(Ω)\n",
    "wireframe!(Ω, color=:black)\n",
    "scatter!(Ω, marker=:circle, markersize=20, color=:blue)\n",
    "display(fig)\n",
    "save(\"mesh_nx_$(nx)_ny_$(ny).svg\", fig)"
   ]
  },
  {
   "attachments": {},
   "cell_type": "markdown",
   "metadata": {},
   "source": [
    "### Task 2\n",
    "Let's visualize the boundary in the same manner, but use a `BoundaryTriangulation` instead of a `Triangulation` type."
   ]
  },
  {
   "cell_type": "markdown",
   "metadata": {},
   "source": [
    "**Solution.**"
   ]
  },
  {
   "cell_type": "code",
   "execution_count": null,
   "metadata": {},
   "outputs": [],
   "source": [
    "Γ = BoundaryTriangulation(model)\n",
    "fig = plot(Γ)\n",
    "wireframe!(Γ, color=:black)\n",
    "scatter!(Γ, marker=:circle, markersize=20, color=:blue)\n",
    "display(fig)"
   ]
  },
  {
   "cell_type": "markdown",
   "metadata": {},
   "source": [
    "The discrete `model` we just generated also contains some extra labels which keep track of e.g. various sides of the model.\n",
    "The `tags` or `labels` can be extracted using the `get_face_labeling` function like this:\n",
    " ```julia\n",
    "labels = get_face_labeling(model)\n",
    " ```\n",
    " Afterwards, you either inspects in e.g. the workspace viewer in Visual Studio Code or \n",
    " by simply accessing and printing its `tag_to_name` member. \n",
    " Those tags related entities can also be easily visualized if you write the model\n",
    " to a vtk file and load it into Paraview."
   ]
  },
  {
   "cell_type": "code",
   "execution_count": null,
   "metadata": {},
   "outputs": [],
   "source": [
    "labels = get_face_labeling(model)\n",
    "labels.tag_to_name"
   ]
  },
  {
   "cell_type": "markdown",
   "metadata": {},
   "source": [
    "The tags can be used to extract various parts of the boundary\n",
    "using \n",
    "```julia\n",
    "Γ_tag = BoundaryTriangulation(model, tags=[\"TAGNAME\"])\n",
    "\n",
    "```"
   ]
  },
  {
   "attachments": {},
   "cell_type": "markdown",
   "metadata": {},
   "source": [
    "### Task 3\n",
    "Use that and visualize/plot each parts of the \"boundary\" which are associated with each tag.\n",
    "Note that the \"tag_1\" to \"tag_4\" are actually tags associated with vertices and not with faces.\n"
   ]
  },
  {
   "cell_type": "markdown",
   "metadata": {},
   "source": [
    "**Solution.**\n"
   ]
  },
  {
   "attachments": {},
   "cell_type": "markdown",
   "metadata": {},
   "source": [
    "### Task 4\n",
    "\n",
    "Before we turn to the numerical solution of the full Poisson problem, we do a \n",
    "little preliminary exercise.\n",
    "\n",
    "Integrate the function $g(x,y) = x + 2y$ \n",
    "separately over the left, right, bottom and top boundary of the boundary (check the results!).\n"
   ]
  },
  {
   "attachments": {},
   "cell_type": "markdown",
   "metadata": {},
   "source": [
    "### Task 5\n",
    "\n",
    "Now, based on the previous tutorial and this tutorial, \n",
    "implemented a FEM solver. Use (TP1) and (TP2) to \n",
    "check your implementation, including a convergence test."
   ]
  },
  {
   "cell_type": "markdown",
   "metadata": {},
   "source": [
    "## Homework\n",
    "\n",
    "Now following the steps in this tutorial, implement a FEM-based solver for the Poisson problem \n",
    "$$\n",
    "\\left\\lbrace\n",
    "\\begin{aligned}\n",
    "-\\kappa \\Delta u = f  \\ &\\text{in} \\ \\Omega,\\\\\n",
    "u = g_D \\ &\\text{on}\\ \\Gamma_{\\rm D},\\\\\n",
    "\\kappa \\nabla u\\cdot n = g_N \\ &\\text{on}\\  \\Gamma_{\\rm N},\\\\\n",
    "\\kappa \\nabla u\\cdot n = \\dfrac{1}{\\epsilon}(g_R - u) \\ &\\text{on}\\  \\Gamma_{\\rm R},\\\\\n",
    "\\end{aligned}\n",
    "\\right.\n",
    "$$\n",
    "where\n",
    "$\\Gamma_{\\rm N} = \\{0\\} \\times [0,1]$, \n",
    "$\\Gamma_{\\rm R} = \\{1\\} \\times [0,1]$, \n",
    "and $\\Gamma_D = \\partial\\Omega \\setminus(\\Gamma_{\\rm N} \\cup \\Gamma_{\\rm R})$. \n",
    "\n",
    "In particular this amounts to \n",
    "* determine the correct bilinear and linear forms\n",
    "* use the method of manufactured solution to verify the correctness of your code. \n",
    "  Use at least one new, non-trivial manufactured solution.\n",
    "\n",
    "We ask you to present your code/results in the tutorial session on Friday, 4th of March.\n",
    "\n",
    "#### Happy coding! "
   ]
  }
 ],
 "metadata": {
  "kernelspec": {
   "display_name": "Julia 1.7.2",
   "language": "julia",
   "name": "julia-1.7"
  },
  "language_info": {
   "file_extension": ".jl",
   "mimetype": "application/julia",
   "name": "julia",
   "version": "1.7.2"
  }
 },
 "nbformat": 4,
 "nbformat_minor": 3
}
