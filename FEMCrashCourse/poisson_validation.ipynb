{
 "cells": [
  {
   "cell_type": "markdown",
   "metadata": {},
   "source": [
    "# Tutorial 1: Poisson problem with Dirichlet conditions and code validation"
   ]
  },
  {
   "cell_type": "markdown",
   "metadata": {},
   "source": [
    "In this tutorial, we will learn\n",
    "- How to implement the method of manufactured solutions\n",
    "- How to perform a convergence test\n",
    "- How to define the discretization error\n",
    "- How to integrate error norms\n",
    "- How to generate Cartesian meshes in arbitrary dimensions\n",
    "\n",
    "## Problem statement\n",
    "\n",
    "In this tutorial, we show how to validate a code using the well known *method of manufactured solutions*. For the sake of simplicity, we consider the Poisson equation in the unit square $\\Omega\\doteq (0,1)^2$ as a model problem,\n",
    "\n",
    "\n",
    "$$\n",
    "\\left\\lbrace\n",
    "\\begin{aligned}\n",
    "-\\Delta u = f  \\ \\text{in} \\ \\Omega\\\\\n",
    "u = g \\ \\text{on}\\ \\partial\\Omega.\\\\\n",
    "\\end{aligned}\n",
    "\\right.\n",
    "$$\n",
    "\n",
    "We are going to consider two different manufactured solutions. On the one hand, we consider function $u(x)=x_1+x_2$, which can be exactly represented by the FE interpolation that we construct below. "
   ]
  },
  {
   "cell_type": "markdown",
   "metadata": {},
   "source": [
    "**Question.** Can you prove this? \n",
    "*Hint* Remember Cea's lemma."
   ]
  },
  {
   "cell_type": "markdown",
   "metadata": {},
   "source": [
    "\n",
    "\n",
    "\n",
    "As a result, one expects that the obtained approximation error is near the machine precision. We are going to check that this is true in the code. On the other hand, we consider a function that cannot be captured exactly by the interpolation, namely $u(x)=x_1^3 + x_2^3$. Here, our goal is to confirm that the convergence order of the discretization error is the optimal one.\n",
    "\n",
    "\n",
    "## Manufactured solution\n",
    "\n",
    "We start by defining the manufactured solution $u(x) = x_1+x_2$ and the source term $f$ associated with it, namely $f\\doteq-\\Delta(x_1+x_2)=0$."
   ]
  },
  {
   "cell_type": "code",
   "execution_count": null,
   "metadata": {},
   "outputs": [],
   "source": [
    "using Gridap\n",
    "\n",
    "u(x) = x[1] + x[2]\n",
    "f(x) = 0"
   ]
  },
  {
   "cell_type": "markdown",
   "metadata": {},
   "source": [
    "We also need to define the gradient of $u$ since we will compute the $H^1$ error norm later. In that case, the gradient is simply defined as"
   ]
  },
  {
   "cell_type": "code",
   "execution_count": null,
   "metadata": {},
   "outputs": [],
   "source": [
    "∇u(x) = VectorValue(1,1)"
   ]
  },
  {
   "cell_type": "markdown",
   "metadata": {},
   "source": [
    "Note that we have used the constructor `VectorValue` to build the vector that represents the gradient. However, we still need a final trick. We need to tell the Gridap library that the gradient of the function `u` is available in the function `∇u` (at this moment `u` and `∇u` are two standard Julia functions without any connection between them). This is done by adding an extra method to the function `gradient` (aka `∇`) defined in Gridap:"
   ]
  },
  {
   "cell_type": "code",
   "execution_count": null,
   "metadata": {},
   "outputs": [],
   "source": [
    "import Gridap: ∇\n",
    "∇(::typeof(u)) = ∇u"
   ]
  },
  {
   "cell_type": "markdown",
   "metadata": {},
   "source": [
    "Now, it is possible to recover function `∇u` from function `u` as `∇(u)`. You can check that the following expression evaluates to `true`."
   ]
  },
  {
   "cell_type": "code",
   "execution_count": null,
   "metadata": {},
   "outputs": [],
   "source": [
    "∇(u) === ∇u"
   ]
  },
  {
   "cell_type": "markdown",
   "metadata": {},
   "source": [
    "Note: the definition of the gradient is optional. If not provided, the gradient will be computed with automatic differentiation."
   ]
  },
  {
   "cell_type": "markdown",
   "metadata": {},
   "source": [
    "## Mesh generation\n",
    "\n",
    "In order to discretize the geometry of the unit square, we use the Cartesian mesh generator available in Gridap.\n",
    "This will generate a structured mesh consisting of quadrilaterals and we turn this mesh into a triangulated mesh\n",
    "consisting of triangles by sending the quadrilateral mesh to the `simplexify` function via Julia's pipe/chain operator `|>`.\n"
   ]
  },
  {
   "cell_type": "code",
   "execution_count": null,
   "metadata": {},
   "outputs": [],
   "source": [
    "domain = (0,1,0,1)\n",
    "nx, ny = 4, 4\n",
    "partition = (nx,ny)\n",
    "model = CartesianDiscreteModel(domain,partition) |> simplexify"
   ]
  },
  {
   "cell_type": "markdown",
   "metadata": {},
   "source": [
    "The type `CartesianDiscreteModel` is a concrete type that inherits from `DiscreteModel`, which is specifically designed for building Cartesian meshes. The `CartesianDiscreteModel` constructor takes a tuple containing limits of the box we want to discretize  plus a tuple with the number of cells to be generated in each direction (here 4 by 4 cells). Note that the `CaresianDiscreteModel` is implemented for arbitrary dimensions. For instance, the following lines build a `CartesianDiscreteModel`  for the unit cube $(0,1)^3$ with 4 cells per direction"
   ]
  },
  {
   "cell_type": "code",
   "execution_count": null,
   "metadata": {},
   "outputs": [],
   "source": [
    "domain3d = (0,1,0,1,0,1)\n",
    "partition3d = (4,4,4)\n",
    "model3d = CartesianDiscreteModel(domain3d,partition3d)"
   ]
  },
  {
   "cell_type": "markdown",
   "metadata": {},
   "source": [
    "You could also generate a mesh for the unit tesseract $(0,1)^4$ (i.e., the unit cube in 4D). Look how the 2D and 3D models are built and just follow the sequence."
   ]
  },
  {
   "cell_type": "markdown",
   "metadata": {},
   "source": [
    "Let us return to the 2D `CartesianDiscreteModel` that we have already constructed. You can inspect it by writing it into vtk format\n",
    "and opening it with a suitable visualization tool, e.g. [Paraview](https://www.paraview.org/).\n",
    "To inspect the file using Paraview, you need to install Paraview locally on your computer and download the vtk file.\n",
    "Later in this tutorial we will see, how to visualize meshes, discrete solutions etc. directly in our Jupyterhub. "
   ]
  },
  {
   "cell_type": "code",
   "execution_count": null,
   "metadata": {},
   "outputs": [],
   "source": [
    "writevtk(model,\"model\")"
   ]
  },
  {
   "cell_type": "markdown",
   "metadata": {},
   "source": [
    "If you open the generated files, you will see that the boundary\n",
    "vertices and facets are identified with the name \"boundary\".  This is\n",
    "just what we need to impose the Dirichlet boundary conditions in this\n",
    "example. The objects on the boundary are correctly tagged with the\n",
    "name \"boundary\"."
   ]
  },
  {
   "cell_type": "markdown",
   "metadata": {},
   "source": [
    "## FE spaces approximation\n",
    "\n",
    " Once we have a discretization of the computational domain, the next\n",
    " step is to generate a discrete approximation of the finite element\n",
    " spaces $V_0$ and $V_g$ (i.e. the test and trial FE spaces) of the\n",
    " problem. To do so, first, we are going to build a discretization of\n",
    " $V_0$ as the standard Conforming Lagrangian FE space (with zero\n",
    " boundary conditions) associated with the discretization of the\n",
    " computational domain. The approximation of the FE space $V_0$ is\n",
    " built as follows:"
   ]
  },
  {
   "cell_type": "code",
   "execution_count": null,
   "metadata": {},
   "outputs": [],
   "source": [
    "order = 1\n",
    "reffe = ReferenceFE(lagrangian,Float64,order)\n",
    "V0 = TestFESpace(model,reffe,conformity=:H1,dirichlet_tags=\"boundary\")\n"
   ]
  },
  {
   "cell_type": "markdown",
   "metadata": {},
   "source": [
    "Here, we have used the `TestFESpace` constructor, which constructs a particular FE space (to be used as a test space) from a set of options described as positional and key-word arguments. The first positional argument is the model on top of which we want to build the space. The second positional argument contains information about the type of FE interpolation (the reference FE in this case). With `ReferenceFE(lagrangian,Float64,order)` We select a scalar-valued Lagrangian reference FE of order 1, where the value of the shape functions will be represented with  64-bit floating point numbers. With the key-word argument `conformity` we define the regularity of the interpolation at the boundaries of the cells in the mesh. Here, we use `conformity=:H1`, which means that the resulting interpolation space is a subset of $H^1(\\Omega)$ (i.e., continuous shape functions). On the other hand, we pass the identifiers of the Dirichlet boundary via the `dirichlet_tags` argument. In this case, we mark as Dirichlet all objects of the discrete model identified with the `\"boundary\"` tag. Since this is a test space, the corresponding shape functions vanishes at the Dirichlet boundary.\n",
    "\n",
    "Once the space $V_0$ is discretized in the code, we proceed with the approximation of the trial space $V_g$."
   ]
  },
  {
   "cell_type": "code",
   "execution_count": null,
   "metadata": {},
   "outputs": [],
   "source": [
    "Vg = TrialFESpace(V0,u)"
   ]
  },
  {
   "cell_type": "markdown",
   "metadata": {},
   "source": [
    "To this end, we have used the `TrialFESpace` constructors. Note that we have passed a function representing the value of the Dirichlet boundary condition, when building the trial space."
   ]
  },
  {
   "cell_type": "markdown",
   "metadata": {},
   "source": [
    "\n",
    "## Numerical integration\n",
    "\n",
    "Once we have built the interpolation spaces, the next step is to set up the machinery to perform the integrals in the weak form numerically. Here, we only need to compute integrals on the interior of the domain $\\Omega$.\n",
    "To do so, we need two main ingredients:\n",
    "1. We need to define an integration mesh (i.e. a triangulation of the integration domain)\n",
    "2. A Gauss-like quadrature in each of the cells in the triangulation. \n",
    "\n",
    "In Gridap, integration meshes are represented by types inheriting from the abstract type `Triangulation`. For integrating on the domain $\\Omega$, we build the following triangulation and the corresponding Lebesgue measure, which will allow to write down integrals in a syntax similar to the usual mathematical notation."
   ]
  },
  {
   "cell_type": "code",
   "execution_count": null,
   "metadata": {},
   "outputs": [],
   "source": [
    "degree = 2\n",
    "Ω = Triangulation(model)\n",
    "dΩ = Measure(Ω,degree)"
   ]
  },
  {
   "cell_type": "markdown",
   "metadata": {},
   "source": [
    "\n",
    "Here, we build a triangulation from the cells of the model and build (an approximation of) the Lebesgue measure using a quadrature rule of degree 2 in the cells of this triangulation. This is enough for integrating the corresponding terms of the weak form exactly for an interpolation of order 1."
   ]
  },
  {
   "cell_type": "markdown",
   "metadata": {},
   "source": [
    "## Weak form\n",
    "\n",
    "With all the ingredients presented so far, we are ready to define the weak form. This is done by defining to functions representing the bi-linear and linear forms:"
   ]
  },
  {
   "cell_type": "code",
   "execution_count": null,
   "metadata": {},
   "outputs": [],
   "source": [
    "a(u,v) = ∫( ∇(v)⊙∇(u) )*dΩ\n",
    "b(v) = ∫( v*f )*dΩ"
   ]
  },
  {
   "cell_type": "markdown",
   "metadata": {},
   "source": [
    "Note that by using the integral function `∫`, the Lebesgue measure `dΩ`, and the gradient function `∇`, the weak form is written with an obvious relation with the corresponding mathematical notation."
   ]
  },
  {
   "cell_type": "markdown",
   "metadata": {},
   "source": [
    "## FE Problem\n",
    "\n",
    " At this point, we can build the FE problem that, once solved, will provide the numerical solution we are looking for. A FE problem is represented in Gridap by types inheriting from the abstract type `FEOperator` (both for linear and nonlinear cases). Since we want to solve a linear problem, we use the concrete type `AffineFEOperator`, i.e., a problem represented by a matrix and a right hand side vector.\n",
    " Here, we don"
   ]
  },
  {
   "cell_type": "code",
   "execution_count": null,
   "metadata": {},
   "outputs": [],
   "source": [
    "op = AffineFEOperator(a,b,Vg,V0)\n",
    "\n",
    "uh = solve(op)"
   ]
  },
  {
   "cell_type": "markdown",
   "metadata": {},
   "source": [
    "Note that we are imposing Dirichlet boundary conditions on the objects tagged as \"boundary\" and that we are using the manufactured solution `u` to construct the trial FE space. Not also that we are not explicitly constructing an `Assembler` object nor a `FESolver`. We are relying on default values.\n",
    "\n",
    "The `solve` function returns the computed numerical solution `uh`. This object is an instance of `FEFunction`, the type used to represent a function in a FE space. "
   ]
  },
  {
   "cell_type": "markdown",
   "metadata": {},
   "source": [
    "## Visualization\n",
    "\n",
    "Similar to what we did to inspect the Cartesion Grid Model, we can also inspect the result `uh` by writing it into a `vtk` file and using Paraview:"
   ]
  },
  {
   "cell_type": "code",
   "execution_count": null,
   "metadata": {},
   "outputs": [],
   "source": [
    "writevtk(Ω, \"results\", cellfields=[\"uh\"=>uh])"
   ]
  },
  {
   "cell_type": "markdown",
   "metadata": {},
   "source": [
    "Direct visualization using our Jupyterhub poses some extra challenges, since we run our notebooks on a headless server with does not\n",
    "provides a display server or access to OpenGL functionality to draw scenes.\n",
    "Instead, we can the `GridapMakie` package together with the `CairoMakie` to plot non-interactive 2D/3D vector graphics.\n",
    "\n",
    "First make sure that you have install the `GridapMakie`, `CairoMakie`, and the `FileIO` packages.\n",
    "You can do that in a separate Julia REPL you open via a Terminal launched from the JupyterHub launcher page,\n",
    "or you can do it directly from within the notebook:"
   ]
  },
  {
   "cell_type": "code",
   "execution_count": null,
   "metadata": {},
   "outputs": [],
   "source": [
    "import Pkg\n",
    "Pkg.add([\"GridapMakie\", \"CairoMakie\", \"FileIO\"])"
   ]
  },
  {
   "cell_type": "markdown",
   "metadata": {},
   "source": [
    "Now let's use it. First, we draw the (triangulation) mesh and its corresonding nodes."
   ]
  },
  {
   "cell_type": "code",
   "execution_count": null,
   "metadata": {},
   "outputs": [],
   "source": [
    "# make a triangulation\n",
    "using GridapMakie, CairoMakie, FileIO\n",
    "fig = plot(Ω)\n",
    "# Plot edges of each element\n",
    "wireframe!(Ω, color=:black, linewidth=2)\n",
    "# Plot mesh nodes\n",
    "scatter!(Ω, marker=:circle, markersize=20, color=:blue)\n",
    "# Don't forget to display the figue\n",
    "display(fig)\n",
    "# And finally save it.\n",
    "save(\"mesh_nx_$(nx)_ny_$(ny).svg\", fig)"
   ]
  },
  {
   "cell_type": "code",
   "execution_count": null,
   "metadata": {},
   "outputs": [],
   "source": [
    "fig, _ , plt = plot(Ω, uh, colormap=:plasma)\n",
    "wireframe!(Ω, color=:black, linewidth=1)\n",
    "Colorbar(fig[1,2], plt)\n",
    "display(fig)\n",
    "save(\"uh_nx_$(nx)_ny_$(ny).svg\", fig)"
   ]
  },
  {
   "cell_type": "markdown",
   "metadata": {},
   "source": [
    "## Measuring the discretization error\n",
    "\n",
    "Our goal is to check that the discratization error associated with the computed approximation `uh` is close to machine precision. To this end, the first step is to compute the discretization error, which is done as you would expect:"
   ]
  },
  {
   "cell_type": "code",
   "execution_count": null,
   "metadata": {},
   "outputs": [],
   "source": [
    "e= u - uh "
   ]
  },
  {
   "cell_type": "markdown",
   "metadata": {},
   "source": [
    "Once the error is defined, you can, e.g., visualize it."
   ]
  },
  {
   "cell_type": "code",
   "execution_count": null,
   "metadata": {},
   "outputs": [],
   "source": [
    "# For Paraview\n",
    "writevtk(Ω,\"error\",cellfields=[\"e\" => e])\n",
    "\n",
    "# In place visualization\n",
    "fig, _ , plt = plot(Ω, e, colormap=:plasma)\n",
    "wireframe!(Ω, color=:black, linewidth=1)\n",
    "Colorbar(fig[1,2], plt)\n",
    "display(fig)\n",
    "save(\"eh_nx_$(nx)_ny_$(ny).svg\", fig)\n"
   ]
  },
  {
   "cell_type": "markdown",
   "metadata": {},
   "source": [
    "This generates a file called `error.vtu`. Open it with Paraview to check that the error is of the order of the machine precision.\n",
    "\n",
    "![](../assets/validation/error.png)\n",
    "\n",
    "A more rigorous way of quantifying the error is to measure it with a norm. Here, we use the $L^2$ and $H^1$ norms, which are defined as\n",
    "\n",
    "$$\n",
    "\\| w \\|_{L^2}^2 \\doteq \\int_{\\Omega} w^2 \\ \\text{d}\\Omega, \\quad\n",
    "\\| w \\|_{H^1}^2 \\doteq \\int_{\\Omega} w^2 + \\nabla w \\cdot \\nabla w \\ \\text{d}\\Omega.\n",
    "$$\n",
    "\n",
    "In order to compute these norms, we use again the `∫` function and the integration measure `dΩ`, namely"
   ]
  },
  {
   "cell_type": "code",
   "execution_count": null,
   "metadata": {},
   "outputs": [],
   "source": [
    "el2 = sqrt(sum( ∫( e*e )*dΩ ))\n",
    "eh1 = sqrt(sum( ∫( e*e + ∇(e)⋅∇(e) )*dΩ ))"
   ]
  },
  {
   "cell_type": "markdown",
   "metadata": {},
   "source": [
    "The expression `∫( fun )*dΩ` returns an object storing the cell contributions of the integral of the given function `fun`.\n",
    " To end up with the desired error norms, one has to sum these contributions and take the square root. You can check that the computed error norms are close to machine precision (as one would expect)."
   ]
  },
  {
   "cell_type": "code",
   "execution_count": null,
   "metadata": {},
   "outputs": [],
   "source": [
    "tol = 1.e-10\n",
    "@assert el2 < tol\n",
    "@assert eh1 < tol"
   ]
  },
  {
   "cell_type": "markdown",
   "metadata": {},
   "source": [
    "## Convergence test\n",
    "\n",
    "We end up this tutorial by performing a convergence test, where we are going to use all the new concepts we have learned.  We will consider a manufactured solution that does not belong to the FE interpolation space. In this test, we expect to see the optimal convergence order of the FE discretization."
   ]
  },
  {
   "cell_type": "markdown",
   "metadata": {},
   "source": [
    "Here, we define the manufactured functions"
   ]
  },
  {
   "cell_type": "code",
   "execution_count": null,
   "metadata": {},
   "outputs": [],
   "source": [
    "p = 3\n",
    "u(x) = x[1]^p+x[2]^p\n",
    "∇u(x) = VectorValue(p*x[1]^(p-1),p*x[2]^(p-1))\n",
    "f(x) = -p*(p-1)*(x[1]^(p-2)+x[2]^(p-2))"
   ]
  },
  {
   "cell_type": "markdown",
   "metadata": {},
   "source": [
    "Since we have redefined the valiables `u`, `∇u`, and `f`, we need to execute these lines again"
   ]
  },
  {
   "cell_type": "code",
   "execution_count": null,
   "metadata": {},
   "outputs": [],
   "source": [
    "∇(::typeof(u)) = ∇u\n",
    "b(v) = ∫( v*f )*dΩ"
   ]
  },
  {
   "cell_type": "markdown",
   "metadata": {},
   "source": [
    "In order to perform the convergence test, we write in a function all the code needed to perform a single computation and measure its error. The input of this function is the number of cells in each direction and the interpolation order. The output is the computed $L^2$ and $H^1$ error norms."
   ]
  },
  {
   "cell_type": "code",
   "execution_count": null,
   "metadata": {},
   "outputs": [],
   "source": [
    "function run(n,k)\n",
    "\n",
    "  domain = (0,1,0,1)\n",
    "  partition = (n,n)\n",
    "  model = CartesianDiscreteModel(domain,partition)\n",
    "\n",
    "  reffe = ReferenceFE(lagrangian,Float64,k)\n",
    "  V0 = TestFESpace(model,reffe,conformity=:H1,dirichlet_tags=\"boundary\")\n",
    "  U = TrialFESpace(V0,u)\n",
    "\n",
    "  degree = 2*k\n",
    "  Ω = Triangulation(model)\n",
    "  dΩ = Measure(Ω,degree)\n",
    "\n",
    "  a(u,v) = ∫( ∇(v)⊙∇(u) )*dΩ\n",
    "  b(v) = ∫( v*f )*dΩ\n",
    "\n",
    "  op = AffineFEOperator(a,b,U,V0)\n",
    "\n",
    "  uh = solve(op)\n",
    "\n",
    "  e = u - uh\n",
    "\n",
    "  el2 = sqrt(sum( ∫( e*e )*dΩ ))\n",
    "  eh1 = sqrt(sum( ∫( e*e + ∇(e)⋅∇(e) )*dΩ ))\n",
    "\n",
    "  (el2, eh1)\n",
    "\n",
    "end"
   ]
  },
  {
   "cell_type": "markdown",
   "metadata": {},
   "source": [
    "The following function does the convergence test. It takes a vector of integers (representing the number of cells per direction in each computation) plus the interpolation order. It returns the $L^2$ and $H^1$ error norms for each computation as well as the corresponding cell size."
   ]
  },
  {
   "cell_type": "code",
   "execution_count": null,
   "metadata": {},
   "outputs": [],
   "source": [
    "function conv_test(ns,k)\n",
    "\n",
    "  el2s = Float64[]\n",
    "  eh1s = Float64[]\n",
    "  hs = Float64[]\n",
    "\n",
    "  for n in ns\n",
    "\n",
    "    el2, eh1 = run(n,k)\n",
    "    h = 1.0/n\n",
    "\n",
    "    push!(el2s,el2)\n",
    "    push!(eh1s,eh1)\n",
    "    push!(hs,h)\n",
    "\n",
    "  end\n",
    "\n",
    "  (el2s, eh1s, hs)\n",
    "\n",
    "end"
   ]
  },
  {
   "cell_type": "markdown",
   "metadata": {},
   "source": [
    "We are ready to perform the test! We consider several mesh sizes and interpolation order $k=1$ and $k=2$ (for $k=3$ the error will be close to machine precision, as before, except if you change the value of $p$ above)."
   ]
  },
  {
   "cell_type": "code",
   "execution_count": null,
   "metadata": {},
   "outputs": [],
   "source": [
    "el2s1, eh1s1, hs = conv_test([8,16,32,64,128],1);\n",
    "el2s2, eh1s2, hs = conv_test([8,16,32,64,128],2);"
   ]
  },
  {
   "cell_type": "markdown",
   "metadata": {},
   "source": [
    "With the generated data, we do the classical convergence plot."
   ]
  },
  {
   "cell_type": "code",
   "execution_count": null,
   "metadata": {},
   "outputs": [],
   "source": [
    "import Plots\n",
    "\n",
    "Plots.plot(hs,[el2s1 eh1s1 el2s2 eh1s2],\n",
    "    xaxis=:log, yaxis=:log,\n",
    "    label=[\"L2 k=1\" \"H1 k=1\" \"L2 k=2\" \"H1 k=2\"],\n",
    "    shape=:auto,\n",
    "    xlabel=\"h\",ylabel=\"error norm\")"
   ]
  },
  {
   "cell_type": "markdown",
   "metadata": {},
   "source": [
    "The generated curves make sense. For a given interpolation order it is observed that the convergence of the $H^1$ error is slower that $L^2$ one whereas increasing the order makes convergence faster both in $L^2$ and in $H^1$. However, in order to be more conclusive, we need to compute the slope of these lines. It can be done with this little function that internally uses a linear regression."
   ]
  },
  {
   "cell_type": "code",
   "execution_count": null,
   "metadata": {},
   "outputs": [],
   "source": [
    "function slope(hs,errors)\n",
    "  x = log10.(hs)\n",
    "  y = log10.(errors)\n",
    "  linreg = hcat(fill!(similar(x), 1), x) \\ y\n",
    "  linreg[2]\n",
    "end"
   ]
  },
  {
   "cell_type": "markdown",
   "metadata": {},
   "source": [
    "The slopes for the $L^2$ error norm is computed as"
   ]
  },
  {
   "cell_type": "code",
   "execution_count": null,
   "metadata": {},
   "outputs": [],
   "source": [
    "slope(hs,el2s1)\n",
    "slope(hs,el2s2)"
   ]
  },
  {
   "cell_type": "markdown",
   "metadata": {},
   "source": [
    "and for the $H^1$ error norm as"
   ]
  },
  {
   "cell_type": "code",
   "execution_count": null,
   "metadata": {},
   "outputs": [],
   "source": [
    "slope(hs,eh1s1)\n",
    "slope(hs,eh1s2)"
   ]
  },
  {
   "cell_type": "markdown",
   "metadata": {},
   "source": [
    "As you can see,\n",
    "the slopes for the $L^2$ and $H^1$ error norms are 2 and 1 for $k=1$ and 3 and 2 for $k=2$ respectively."
   ]
  }
 ],
 "metadata": {
  "kernelspec": {
   "display_name": "Julia 1.7.2",
   "language": "julia",
   "name": "julia-1.7"
  },
  "language_info": {
   "file_extension": ".jl",
   "mimetype": "application/julia",
   "name": "julia",
   "version": "1.7.2"
  }
 },
 "nbformat": 4,
 "nbformat_minor": 3
}
