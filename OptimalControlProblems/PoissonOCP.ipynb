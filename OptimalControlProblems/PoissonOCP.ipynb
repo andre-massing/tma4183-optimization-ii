{
 "cells": [
  {
   "attachments": {},
   "cell_type": "markdown",
   "metadata": {},
   "source": [
    "# Optimal control problems governed by the Laplace \n",
    "\n",
    "In this notebook we solve numerically the distributed optimal control problem\n",
    "\n",
    "\\begin{align*}\n",
    "\n",
    "J(y, u) = \\dfrac{1}{2} \\| y - y_{\\Omega}\\|_{\\Omega}^2 + \\dfrac{\\gamma}{2} \\| u \\|^2_{\\Omega} \\to \\min\n",
    "\\end{align*}\n",
    "\n",
    "subject to state equation\n",
    "\\begin{alignat}{2}\n",
    "-\\Delta y &= f + \\beta u & &\\quad \\text{in } \\Omega,\n",
    "\\\\\n",
    "        y &= 0 & & \\quad \\text{on } \\Gamma = \\partial \\Omega, \n",
    "\\end{alignat}\n",
    "and $u \\in \\mathcal{U}_{ad}$  for some convex subset of $\\mathcal{U} = L^2(\\Omega)$. Here,\n",
    "$\\beta $ is simply some positive constant, and for simplicity, we pick $\\Omega = (0,1)^2 \\subset \\mathbb{R}^2$. \n",
    "\n",
    "Finally, our target function is \n",
    "$$y_{\\Omega} = 10x_1(1-x_1)x_2(1-x_2).\n",
    "$$.\n",
    "This example is take from [ManzoniQuarteroniSalsa2021, Section 6.5.1, Test case 1](https://link.springer.com/10.1007/978-3-030-77226-0)."
   ]
  },
  {
   "cell_type": "code",
   "execution_count": 3,
   "metadata": {},
   "outputs": [
    {
     "data": {
      "text/plain": [
       "3-element Vector{Vector{String}}:\n",
       " [\"mesh_nx20_ny20_0.vtu\"]\n",
       " [\"mesh_nx20_ny20_1.vtu\"]\n",
       " [\"mesh_nx20_ny20_2.vtu\"]"
      ]
     },
     "metadata": {},
     "output_type": "display_data"
    }
   ],
   "source": [
    "using Gridap\n",
    "domain = (0,1,0,1)\n",
    "partition = (20, 20)\n",
    "model = CartesianDiscreteModel(domain, partition) |> simplexify\n",
    "writevtk(model, \"mesh_nx$(partition[1])_ny$(partition[2])\")"
   ]
  },
  {
   "cell_type": "code",
   "execution_count": 12,
   "metadata": {},
   "outputs": [
    {
     "data": {
      "text/plain": [
       "yd (generic function with 1 method)"
      ]
     },
     "metadata": {},
     "output_type": "display_data"
    }
   ],
   "source": [
    "β = 1\n",
    "yΩ(x) = 10*x[1]*(1-x[1])*x[2]*(1-x[2]) # Target function\n",
    "yd(x) = 0  # Dirichlet condition"
   ]
  },
  {
   "cell_type": "code",
   "execution_count": 13,
   "metadata": {},
   "outputs": [
    {
     "data": {
      "text/plain": [
       "l (generic function with 1 method)"
      ]
     },
     "metadata": {},
     "output_type": "display_data"
    }
   ],
   "source": [
    "order = 1\n",
    "reffe = ReferenceFE(lagrangian, Float64, order)\n",
    "V0 = TestFESpace(model, reffe, conformity=:H1, dirichlet_tags=\"boundary\")\n",
    "Vd = TrialFESpace(V0, yd)\n",
    "degree = 2*order\n",
    "Ω = Triangulation(model)\n",
    "dΩ = Measure(Ω, degree)\n",
    "\n",
    "a(y,ϕ) = ∫(∇(y)⋅∇(ϕ))*dΩ\n",
    "l(ϕ) = ∫(β*ϕ)*dΩ"
   ]
  },
  {
   "cell_type": "code",
   "execution_count": 14,
   "metadata": {},
   "outputs": [
    {
     "data": {
      "text/plain": [
       "([\"results.vtu\"],)"
      ]
     },
     "metadata": {},
     "output_type": "display_data"
    }
   ],
   "source": [
    "op = AffineFEOperator(a, l, Vd, V0)\n",
    "yh  = solve(op)\n",
    "ydiff = yh - yΩ\n",
    "\n",
    "writevtk(Ω, \"results\", cellfields=[\"y\"=> yh, \"yOmega\"=>yΩ, \"ydiff\" => ydiff])"
   ]
  },
  {
   "attachments": {},
   "cell_type": "markdown",
   "metadata": {},
   "source": [
    "## Problem 1\n",
    "\n",
    "Let $\\mathcal{U}_{ad} = \\mathcal{U}$ and solve the resulting unconstrained OCP numerically by implementing a descent methods using\n",
    "  * steepest descent as descent direction\n",
    "  * backtracking Armijo line-search to select the step length"
   ]
  },
  {
   "attachments": {},
   "cell_type": "markdown",
   "metadata": {},
   "source": [
    "### Solution"
   ]
  },
  {
   "cell_type": "code",
   "execution_count": null,
   "metadata": {},
   "outputs": [],
   "source": [
    "function descent_method()\n",
    "\n",
    "end"
   ]
  }
 ],
 "metadata": {
  "kernelspec": {
   "display_name": "Julia 1.8.4",
   "language": "julia",
   "name": "julia-1.8"
  },
  "language_info": {
   "file_extension": ".jl",
   "mimetype": "application/julia",
   "name": "julia",
   "version": "1.8.4"
  },
  "orig_nbformat": 4
 },
 "nbformat": 4,
 "nbformat_minor": 2
}
